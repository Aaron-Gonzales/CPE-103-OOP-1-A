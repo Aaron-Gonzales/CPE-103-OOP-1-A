{
  "nbformat": 4,
  "nbformat_minor": 0,
  "metadata": {
    "colab": {
      "provenance": [],
      "authorship_tag": "ABX9TyPUiF7AtUlWdysv0AYFvcPd",
      "include_colab_link": true
    },
    "kernelspec": {
      "name": "python3",
      "display_name": "Python 3"
    },
    "language_info": {
      "name": "python"
    }
  },
  "cells": [
    {
      "cell_type": "markdown",
      "metadata": {
        "id": "view-in-github",
        "colab_type": "text"
      },
      "source": [
        "<a href=\"https://colab.research.google.com/github/Aaron-Gonzales/CPE-103-OOP-1-A/blob/main/Python_Fundamentals.ipynb\" target=\"_parent\"><img src=\"https://colab.research.google.com/assets/colab-badge.svg\" alt=\"Open In Colab\"/></a>"
      ]
    },
    {
      "cell_type": "markdown",
      "source": [
        "Python Identation"
      ],
      "metadata": {
        "id": "OsKd6u2YFpFB"
      }
    },
    {
      "cell_type": "code",
      "source": [
        "x = 5\n",
        "y = 2\n",
        "if x > y:\n",
        "  print(\"Five is greater than two!\")"
      ],
      "metadata": {
        "colab": {
          "base_uri": "https://localhost:8080/"
        },
        "id": "Dc8mMeA-FtD6",
        "outputId": "e46ef713-cdc3-4a79-8afd-8b6f6f3fe72c"
      },
      "execution_count": 28,
      "outputs": [
        {
          "output_type": "stream",
          "name": "stdout",
          "text": [
            "Five is greater than two!\n"
          ]
        }
      ]
    },
    {
      "cell_type": "markdown",
      "source": [
        "Python Comments"
      ],
      "metadata": {
        "id": "t8pF47SMIpTb"
      }
    },
    {
      "cell_type": "code",
      "source": [
        "#This is a comment\n",
        "print(\"Hello, World!\")"
      ],
      "metadata": {
        "colab": {
          "base_uri": "https://localhost:8080/"
        },
        "id": "m92y9OttIr-k",
        "outputId": "ba800747-f093-4bcd-c632-8b2c832abb80"
      },
      "execution_count": 5,
      "outputs": [
        {
          "output_type": "stream",
          "name": "stdout",
          "text": [
            "Hello, World!\n"
          ]
        }
      ]
    },
    {
      "cell_type": "markdown",
      "source": [
        "Variable Naming Conventions"
      ],
      "metadata": {
        "id": "L8msrO3FJDir"
      }
    },
    {
      "cell_type": "code",
      "source": [
        "my_var = \"John\""
      ],
      "metadata": {
        "id": "1_rOR3maJDvs"
      },
      "execution_count": 11,
      "outputs": []
    },
    {
      "cell_type": "markdown",
      "source": [
        "Python Variable"
      ],
      "metadata": {
        "id": "kOAdIFASKUmE"
      }
    },
    {
      "cell_type": "code",
      "source": [
        "z = 1\n",
        "a, b, = 0, -1\n",
        "a, b, c, = 0, -1, \"Sally\"\n",
        "print(a)\n",
        "print(b)\n",
        "print(c)\n",
        "print(z)"
      ],
      "metadata": {
        "colab": {
          "base_uri": "https://localhost:8080/"
        },
        "id": "z34t-oNrKXSz",
        "outputId": "fa311e21-7cb4-4a88-d43c-1ed444391480"
      },
      "execution_count": 20,
      "outputs": [
        {
          "output_type": "stream",
          "name": "stdout",
          "text": [
            "0\n",
            "-1\n",
            "Sally\n",
            "1\n"
          ]
        }
      ]
    },
    {
      "cell_type": "markdown",
      "source": [
        "Casting"
      ],
      "metadata": {
        "id": "6ld8e_4QMAdF"
      }
    },
    {
      "cell_type": "code",
      "source": [
        "b = \"Sally\" #this is a type of string\n",
        "b = int(4)\n",
        "print(b)\n",
        "\n",
        "b = float(4)\n",
        "print(b)"
      ],
      "metadata": {
        "colab": {
          "base_uri": "https://localhost:8080/"
        },
        "id": "pmh_GFQmMCoG",
        "outputId": "f7abf491-9f28-41ef-d9a1-9aea15ca6dfe"
      },
      "execution_count": 29,
      "outputs": [
        {
          "output_type": "stream",
          "name": "stdout",
          "text": [
            "4\n",
            "4.0\n"
          ]
        }
      ]
    },
    {
      "cell_type": "markdown",
      "source": [
        "Type() Function"
      ],
      "metadata": {
        "id": "3bHCWz7hNEyD"
      }
    },
    {
      "cell_type": "code",
      "source": [
        "x = 5\n",
        "y = \"John\"\n",
        "print(type(x))\n",
        "print(type(y))"
      ],
      "metadata": {
        "colab": {
          "base_uri": "https://localhost:8080/"
        },
        "id": "TIFDpu9ZNI9r",
        "outputId": "c69ffb43-4e98-4944-e5ad-0fb62a30fc86"
      },
      "execution_count": 30,
      "outputs": [
        {
          "output_type": "stream",
          "name": "stdout",
          "text": [
            "<class 'int'>\n",
            "<class 'str'>\n"
          ]
        }
      ]
    },
    {
      "cell_type": "markdown",
      "source": [
        "\"Double Quotes\" or 'Single' quotes"
      ],
      "metadata": {
        "id": "AkBf4AxNNlLc"
      }
    },
    {
      "cell_type": "code",
      "source": [
        "y = \"Aaron\"\n",
        "y = 'Aaron'\n",
        "print(y)\n",
        "print(y)"
      ],
      "metadata": {
        "colab": {
          "base_uri": "https://localhost:8080/"
        },
        "id": "ICtDIIV-OESc",
        "outputId": "c15cd3d4-9fc0-46ea-cf3e-b5b9e4735d14"
      },
      "execution_count": 32,
      "outputs": [
        {
          "output_type": "stream",
          "name": "stdout",
          "text": [
            "Aaron\n",
            "Aaron\n"
          ]
        }
      ]
    },
    {
      "cell_type": "markdown",
      "source": [
        "Case sensitive"
      ],
      "metadata": {
        "id": "mOyFRTvJOX8V"
      }
    },
    {
      "cell_type": "code",
      "source": [
        "a = 4\n",
        "A = \"Sally\"\n",
        "#A will not overwrite a"
      ],
      "metadata": {
        "id": "RtFuI-uFOlGU"
      },
      "execution_count": 33,
      "outputs": []
    },
    {
      "cell_type": "markdown",
      "source": [
        "Multiple Variables"
      ],
      "metadata": {
        "id": "k8rkxPp0O1OX"
      }
    },
    {
      "cell_type": "code",
      "source": [
        "x, y, z = \"one\", \"two\", \"three\"\n",
        "print(x)\n",
        "print(y)\n",
        "print(z)\n"
      ],
      "metadata": {
        "colab": {
          "base_uri": "https://localhost:8080/"
        },
        "id": "XPqpypXfO_bL",
        "outputId": "f6b97ccb-ea72-43d7-b9ff-20bf32b93d90"
      },
      "execution_count": 34,
      "outputs": [
        {
          "output_type": "stream",
          "name": "stdout",
          "text": [
            "one\n",
            "two\n",
            "three\n"
          ]
        }
      ]
    },
    {
      "cell_type": "markdown",
      "source": [
        "One Value to Multiple Variables"
      ],
      "metadata": {
        "id": "bpBD52iAPPi8"
      }
    },
    {
      "cell_type": "code",
      "source": [
        " x = y = z = \"four\"\n",
        " print(x)\n",
        " print(y)\n",
        " print(z)"
      ],
      "metadata": {
        "colab": {
          "base_uri": "https://localhost:8080/"
        },
        "id": "BkEZeOD8P2rk",
        "outputId": "9cc2ec2a-901a-4314-cef4-8fee550c6caa"
      },
      "execution_count": 35,
      "outputs": [
        {
          "output_type": "stream",
          "name": "stdout",
          "text": [
            "four\n",
            "four\n",
            "four\n"
          ]
        }
      ]
    },
    {
      "cell_type": "markdown",
      "source": [
        "Output Variables"
      ],
      "metadata": {
        "id": "WQZZ2Cp2QEUU"
      }
    },
    {
      "cell_type": "code",
      "source": [
        "x = \"enjoying\"\n",
        "print(\"Python programming is \" + x)"
      ],
      "metadata": {
        "colab": {
          "base_uri": "https://localhost:8080/"
        },
        "id": "v75nfg-MQHqk",
        "outputId": "1e470fb6-97ff-496a-fb07-2a4d054c7651"
      },
      "execution_count": 37,
      "outputs": [
        {
          "output_type": "stream",
          "name": "stdout",
          "text": [
            "Python programming is enjoying\n"
          ]
        }
      ]
    },
    {
      "cell_type": "markdown",
      "source": [
        "Arithmetic Operations"
      ],
      "metadata": {
        "id": "pX-SgSHoRCQm"
      }
    },
    {
      "cell_type": "code",
      "source": [
        "x = 5\n",
        "y = 5\n",
        "print(x ** y)\n",
        "\n",
        "x = 10\n",
        "y = 2\n",
        "print(x // y)"
      ],
      "metadata": {
        "colab": {
          "base_uri": "https://localhost:8080/"
        },
        "id": "i3Eg1mUNRG1W",
        "outputId": "415fdb1b-190e-4092-f4ce-f52a7c93e8e3"
      },
      "execution_count": 42,
      "outputs": [
        {
          "output_type": "stream",
          "name": "stdout",
          "text": [
            "3125\n",
            "5\n"
          ]
        }
      ]
    },
    {
      "cell_type": "markdown",
      "source": [
        "Assignment Operators"
      ],
      "metadata": {
        "id": "Sva2gZRuScAN"
      }
    },
    {
      "cell_type": "code",
      "source": [
        "a, b, c = 0, -2, 8\n",
        "c/=3\n",
        "c"
      ],
      "metadata": {
        "colab": {
          "base_uri": "https://localhost:8080/"
        },
        "id": "4uaCxyMYSgJ0",
        "outputId": "6101ce7a-97bd-4ca7-d954-c3df9a02c3e8"
      },
      "execution_count": 43,
      "outputs": [
        {
          "output_type": "execute_result",
          "data": {
            "text/plain": [
              "2.6666666666666665"
            ]
          },
          "metadata": {},
          "execution_count": 43
        }
      ]
    },
    {
      "cell_type": "markdown",
      "source": [
        "Comparison Operators"
      ],
      "metadata": {
        "id": "kzLwknV5TA1M"
      }
    },
    {
      "cell_type": "code",
      "source": [
        "c = 4 == 3\n",
        "d = 2 != 5\n",
        "print(c)\n",
        "print(d)"
      ],
      "metadata": {
        "colab": {
          "base_uri": "https://localhost:8080/"
        },
        "id": "vcVXDE4bTMOm",
        "outputId": "187de1b3-98d3-4e8b-8dc0-231d56073530"
      },
      "execution_count": 48,
      "outputs": [
        {
          "output_type": "stream",
          "name": "stdout",
          "text": [
            "False\n",
            "True\n"
          ]
        }
      ]
    },
    {
      "cell_type": "markdown",
      "source": [
        "Logical Operators"
      ],
      "metadata": {
        "id": "waYsqWAwTciW"
      }
    },
    {
      "cell_type": "code",
      "source": [
        "a, b, c = 5, -4, 8\n",
        "a<b and c<b"
      ],
      "metadata": {
        "colab": {
          "base_uri": "https://localhost:8080/"
        },
        "id": "3d2wcH7iTeul",
        "outputId": "4cf613c7-f4ff-46b1-9f22-214d7cc30978"
      },
      "execution_count": 46,
      "outputs": [
        {
          "output_type": "execute_result",
          "data": {
            "text/plain": [
              "False"
            ]
          },
          "metadata": {},
          "execution_count": 46
        }
      ]
    },
    {
      "cell_type": "markdown",
      "source": [
        "Identity Operators"
      ],
      "metadata": {
        "id": "erbHz9ZBUOOG"
      }
    },
    {
      "cell_type": "code",
      "source": [
        "a, b, c = 5, -4, 8\n",
        "a is not c"
      ],
      "metadata": {
        "colab": {
          "base_uri": "https://localhost:8080/"
        },
        "id": "dzbbfy8dUQaH",
        "outputId": "16fcf74c-8052-4711-e3a8-5691bd01d045"
      },
      "execution_count": 47,
      "outputs": [
        {
          "output_type": "execute_result",
          "data": {
            "text/plain": [
              "True"
            ]
          },
          "metadata": {},
          "execution_count": 47
        }
      ]
    },
    {
      "cell_type": "markdown",
      "source": [
        "Bitwise Operators"
      ],
      "metadata": {
        "id": "FHlMN9VoUX4l"
      }
    },
    {
      "cell_type": "code",
      "source": [
        "x = 10\n",
        "x >> 1"
      ],
      "metadata": {
        "colab": {
          "base_uri": "https://localhost:8080/"
        },
        "id": "ODRySHdBUaFN",
        "outputId": "2f14694a-d5d8-4537-fe9a-5f90c9846d6c"
      },
      "execution_count": 66,
      "outputs": [
        {
          "output_type": "execute_result",
          "data": {
            "text/plain": [
              "5"
            ]
          },
          "metadata": {},
          "execution_count": 66
        }
      ]
    },
    {
      "cell_type": "markdown",
      "source": [
        "Application 1"
      ],
      "metadata": {
        "id": "p4OKc0EUYXJG"
      }
    },
    {
      "cell_type": "code",
      "source": [
        "#Parallelogram\n",
        "\n",
        "print(\"Input Base: \")\n",
        "Base = input()\n",
        "\n",
        "print(\"Input Height: \")\n",
        "Height = input()\n",
        "\n",
        "print(\"Area of Parallelogram: \")\n",
        "print(float(base)*float(height) )"
      ],
      "metadata": {
        "colab": {
          "base_uri": "https://localhost:8080/"
        },
        "id": "9fJLY2_8YbT9",
        "outputId": "ec9726b3-092e-4674-c2fc-0b32e0922e5a"
      },
      "execution_count": 78,
      "outputs": [
        {
          "output_type": "stream",
          "name": "stdout",
          "text": [
            "Input Base: \n",
            "32\n",
            "Input Height: \n",
            "32\n",
            "Area of Parallelogram: \n",
            "1024.0\n"
          ]
        }
      ]
    },
    {
      "cell_type": "code",
      "source": [
        "#Triangle\n",
        "\n",
        "print(\"Input base: \")\n",
        "base = input()\n",
        "\n",
        "print(\"Input Height: \")\n",
        "height = input()\n",
        "\n",
        "print(\"Area of Triangle:\")\n",
        "print((float(base)*float(height))/2)"
      ],
      "metadata": {
        "colab": {
          "base_uri": "https://localhost:8080/"
        },
        "id": "awrDl9BqhDxv",
        "outputId": "4fd3e635-0b1c-48b2-f99c-fd97af9c83b2"
      },
      "execution_count": 85,
      "outputs": [
        {
          "output_type": "stream",
          "name": "stdout",
          "text": [
            "Input base: \n",
            "1\n",
            "Input Height: \n",
            "2\n",
            "Area of Triangle:\n",
            "1.0\n"
          ]
        }
      ]
    },
    {
      "cell_type": "code",
      "source": [
        "#Square\n",
        "\n",
        "print(\"Input side: \")\n",
        "side = input()\n",
        "\n",
        "print(\"Area of Square: \")\n",
        "print((float(side)**2))"
      ],
      "metadata": {
        "colab": {
          "base_uri": "https://localhost:8080/"
        },
        "id": "wM6dqOeFbqiX",
        "outputId": "76502b8f-50e6-49e5-f06a-66ae5dd75415"
      },
      "execution_count": 87,
      "outputs": [
        {
          "output_type": "stream",
          "name": "stdout",
          "text": [
            "Input side: \n",
            "3\n",
            "Area of Square: \n",
            "9.0\n"
          ]
        }
      ]
    }
  ]
}